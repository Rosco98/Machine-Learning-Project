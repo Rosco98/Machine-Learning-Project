{
 "cells": [
  {
   "cell_type": "code",
   "execution_count": 1,
   "metadata": {},
   "outputs": [],
   "source": [
    "## Libraries that we will use ##\n",
    "import tensorflow as tf\n",
    "import numpy as np\n",
    "import matplotlib.pyplot as plt\n",
    "import pandas as pd\n",
    "\n",
    "from sklearn.utils import shuffle\n",
    "import keras\n",
    "\n",
    "\n",
    "# Garbage Collector to free up memory\n",
    "import gc\n",
    "gc.enable()                     # Activate "
   ]
  },
  {
   "cell_type": "code",
   "execution_count": 2,
   "metadata": {},
   "outputs": [],
   "source": [
    "## Incorportate databases into the project ##\n",
    "aisles = pd.read_csv(\"aisles.csv\")\n",
    "departments = pd.read_csv(\"departments.csv\")\n",
    "order_products_prior = pd.read_csv(\"order_products__prior.csv\")\n",
    "order_products_train = pd.read_csv(\"order_products__train.csv\")\n",
    "orders = pd.read_csv(\"orders.csv\")\n",
    "order_products__test = orders[(orders[\"eval_set\"] == \"test\")]\n",
    "products = pd.read_csv(\"products.csv\")\n",
    "sample_submission = pd.read_csv(\"sample_submission.csv\")"
   ]
  },
  {
   "cell_type": "code",
   "execution_count": 3,
   "metadata": {},
   "outputs": [],
   "source": [
    "## No has convertido los objetos a category, por si da algun error ##\n",
    "aisles['aisle'] = aisles['aisle'].astype('category')\n",
    "departments['department'] = departments['department'].astype('category')\n",
    "orders['eval_set'] = orders['eval_set'].astype('category')\n",
    "products['product_name'] = products['product_name'].astype('category')\n"
   ]
  },
  {
   "cell_type": "code",
   "execution_count": 4,
   "metadata": {},
   "outputs": [],
   "source": [
    "# We combine orders with order_products_prior only for those tuples that have the same order_id\n",
    "op = orders.merge(order_products_prior, on='order_id', how='inner')"
   ]
  },
  {
   "cell_type": "markdown",
   "metadata": {},
   "source": [
    "# Obtaining new fields #"
   ]
  },
  {
   "cell_type": "code",
   "execution_count": 5,
   "metadata": {},
   "outputs": [
    {
     "data": {
      "text/plain": [
       "24"
      ]
     },
     "execution_count": 5,
     "metadata": {},
     "output_type": "execute_result"
    }
   ],
   "source": [
    "# Campos acerca del comportamiento del usuario #\n",
    "## Número de pedidos que realiza cada uno de los clientes ##\n",
    "client = op.groupby('user_id')['order_number'].max().to_frame('c_total_orders')\n",
    "client = client.reset_index()\n",
    "## Frecuencia con que un cliente vuelve a pedir un producto ##\n",
    "c_reorder = op.groupby('user_id')['reordered'].mean().to_frame('c_reordered_ratio')\n",
    "c_reorder = c_reorder.reset_index()\n",
    "# Combinamos ambas tablas #\n",
    "client = client.merge(c_reorder, on='user_id', how='left')\n",
    "# Eliminamos variables que ya no son útiles # \n",
    "del c_reorder\n",
    "gc.collect()"
   ]
  },
  {
   "cell_type": "code",
   "execution_count": 6,
   "metadata": {},
   "outputs": [
    {
     "data": {
      "text/plain": [
       "0"
      ]
     },
     "execution_count": 6,
     "metadata": {},
     "output_type": "execute_result"
    }
   ],
   "source": [
    "## Campos acerca de las características del producto ##\n",
    "# Número de compras de cada uno de los productos\n",
    "product = op.groupby('product_id')['order_id'].count().to_frame('p_total_purchases')\n",
    "product = product.reset_index()\n",
    "# Probabilidad de que se vuelva a comprar un producto #\n",
    "# Filtramos a un mínimo de 40 veces \n",
    "p_reorder = op.groupby('product_id').filter(lambda x: x.shape[0] >40)\n",
    "p_reorder = p_reorder.groupby('product_id')['reordered'].mean().to_frame('p_reorder_ratio')\n",
    "p_reorder = p_reorder.reset_index()\n",
    "\n",
    "# Combinamos ambas tablas #\n",
    "product = product.merge(p_reorder, on='product_id', how='left')\n",
    "\n",
    "# Reparamos los datos #\n",
    "product['p_reorder_ratio'] = product['p_reorder_ratio'].fillna(value=0)\n",
    "\n",
    "# Eliminamos variables que ya no son útiles # \n",
    "del p_reorder\n",
    "gc.collect()"
   ]
  },
  {
   "cell_type": "code",
   "execution_count": 7,
   "metadata": {},
   "outputs": [],
   "source": [
    "# Veces en que un usuario compró un producto #\n",
    "client_product = op.groupby(['user_id', 'product_id'])['order_id'].count().to_frame('uxp_total_bought')\n",
    "client_product = client_product.reset_index()"
   ]
  },
  {
   "cell_type": "code",
   "execution_count": 8,
   "metadata": {},
   "outputs": [],
   "source": [
    "# Frecuencia un cliente compra un producto después se su primera compra \n",
    "times_bought = op.groupby(['user_id', 'product_id'])[['order_id']].count()\n",
    "times_bought.columns = ['Times_Bought_N']\n",
    "N_orders = op.groupby('user_id')['order_number'].max().to_frame('N_orders')\n",
    "first_order = op.groupby(['user_id', 'product_id'])['order_number'].min().to_frame('first_order')\n",
    "first_order  = first_order.reset_index()\n",
    "\n",
    "# Combinamos las tablas temporales\n",
    "client_orders = pd.merge(N_orders, first_order, on='user_id', how='right')\n",
    "\n",
    "# El +1 permite contar desde la primera compra\n",
    "client_orders['Order_Range_D'] = client_orders.N_orders - client_orders.first_order + 1\n",
    "\n",
    "client_product_ratio = pd.merge(times_bought, client_orders, on=['user_id', 'product_id'], how='left')\n",
    "\n",
    "client_product_ratio['client_product_reorder_ratio'] = client_product_ratio.Times_Bought_N / client_product_ratio.Order_Range_D\n",
    "\n",
    "#Remove temporary\n",
    "client_product_ratio = client_product_ratio.drop(['Times_Bought_N', 'N_orders', 'first_order', 'Order_Range_D'], axis=1)\n",
    "#Remove temporary DataFrames\n",
    "del [times_bought, first_order, client_orders]\n",
    "\n",
    "client_product = client_product.merge(client_product_ratio, on=['user_id', 'product_id'], how='left')\n",
    "del client_product_ratio"
   ]
  },
  {
   "cell_type": "code",
   "execution_count": 9,
   "metadata": {},
   "outputs": [],
   "source": [
    "# Cuántas veces un cliente compró un producto concreto en sus últimos 5 pedidos #\n",
    "op['order_number_back'] = op.groupby('user_id')['order_number'].transform(max) - op.order_number +1 \n",
    "op5 = op[op.order_number_back <= 5]\n",
    "\n",
    "last_five = op5.groupby(['user_id','product_id'])[['order_id']].count()\n",
    "last_five.columns = ['times_last5']\n",
    "\n",
    "client_product = client_product.merge(last_five, on=['user_id', 'product_id'], how='left')\n",
    "del last_five\n",
    "client_product = client_product.fillna(0)"
   ]
  },
  {
   "cell_type": "code",
   "execution_count": 10,
   "metadata": {},
   "outputs": [],
   "source": [
    "# Combinamos las diferentes tablas\n",
    "data = client_product.merge(client, on='user_id', how='left')\n",
    "data = data.merge(product, on='product_id', how='left')"
   ]
  },
  {
   "cell_type": "code",
   "execution_count": 11,
   "metadata": {},
   "outputs": [
    {
     "data": {
      "text/plain": [
       "122"
      ]
     },
     "execution_count": 11,
     "metadata": {},
     "output_type": "execute_result"
    }
   ],
   "source": [
    "# Eliminamos todas las variables temporales\n",
    "del op, client, product, client_product\n",
    "gc.collect()"
   ]
  },
  {
   "cell_type": "code",
   "execution_count": 12,
   "metadata": {},
   "outputs": [],
   "source": [
    "# Nos quedamos con aquellos pedidos etiquetados como train y test\n",
    "orders_future = orders[(orders.eval_set=='train')]\n",
    "orders_future = orders_future[ ['user_id', 'eval_set', 'order_id'] ]\n",
    "# Combinamos las tablas\n",
    "data = data.merge(orders_future, on='user_id', how='left')\n",
    "# Separamos los datos del train\n",
    "data_train = data[data.eval_set=='train']\n",
    "# Combinamos las tablas\n",
    "data_train = data_train.merge(order_products_train[['product_id','order_id', 'reordered']], on=['product_id','order_id'], how='left' )\n",
    "# Reparamos datos\n",
    "data_train['reordered'] = data_train['reordered'].fillna(0)\n",
    "data_train = data_train.set_index(['user_id', 'product_id'])\n",
    "# Eliminamos aquellos datos no útiles\n",
    "data_train = data_train.drop(['eval_set', 'order_id'], axis=1)"
   ]
  },
  {
   "cell_type": "code",
   "execution_count": 13,
   "metadata": {},
   "outputs": [],
   "source": [
    "array_train= data_train.to_numpy()\n",
    "\n",
    "array_train_x = array_train[:,:-1]\n",
    "\n",
    "array_train_y = array_train[:,-1]\n",
    "def train_test_split(a, b):\n",
    "    a, b = shuffle(a, b)\n",
    "\n",
    "    len_newtrain = int(0.6*a.shape[0])\n",
    "    len_newval = a.shape[0]- len_newtrain\n",
    "    \n",
    "\n",
    "    train_x = a[:len_newtrain]\n",
    "    a = np.delete(a, range(len_newtrain), axis=0)\n",
    "    val_x = a[:len_newval]\n",
    "    train_y = b[:len_newtrain]\n",
    "    b = np.delete(b, range(len_newtrain), axis=0)\n",
    "    val_y = b[:len_newval]\n",
    "\n",
    "    return train_x, val_x, train_y, val_y\n",
    "t_x, v_x, t_y, v_y = train_test_split(array_train_x, array_train_y)"
   ]
  },
  {
   "cell_type": "code",
   "execution_count": 14,
   "metadata": {},
   "outputs": [
    {
     "name": "stdout",
     "output_type": "stream",
     "text": [
      "Model: \"sequential\"\n",
      "_________________________________________________________________\n",
      "Layer (type)                 Output Shape              Param #   \n",
      "=================================================================\n",
      "flatten (Flatten)            (None, 7)                 0         \n",
      "_________________________________________________________________\n",
      "dense (Dense)                (None, 16)                128       \n",
      "_________________________________________________________________\n",
      "dropout (Dropout)            (None, 16)                0         \n",
      "_________________________________________________________________\n",
      "dense_1 (Dense)              (None, 2)                 34        \n",
      "=================================================================\n",
      "Total params: 162\n",
      "Trainable params: 162\n",
      "Non-trainable params: 0\n",
      "_________________________________________________________________\n",
      "Epoch 1/4\n",
      "158900/158900 [==============================] - 128s 801us/step - loss: 0.5639 - accuracy: 0.9010 - val_loss: 0.5118 - val_accuracy: 0.9014\n",
      "Epoch 2/4\n",
      "158900/158900 [==============================] - 127s 802us/step - loss: 0.5122 - accuracy: 0.9014 - val_loss: 0.4778 - val_accuracy: 0.9024\n",
      "Epoch 3/4\n",
      "158900/158900 [==============================] - 125s 787us/step - loss: 0.4877 - accuracy: 0.9016 - val_loss: 0.4601 - val_accuracy: 0.9024\n",
      "Epoch 4/4\n",
      "158900/158900 [==============================] - 124s 781us/step - loss: 0.4728 - accuracy: 0.9021 - val_loss: 0.4491 - val_accuracy: 0.9024\n"
     ]
    }
   ],
   "source": [
    "model1 = keras.Sequential([\n",
    "    keras.layers.Flatten(input_shape=(7,)),\n",
    "    keras.layers.Dense(16, activation=tf.nn.softmax),\n",
    "    keras.layers.Dropout(0.4),\n",
    "    keras.layers.Dense(2, activation=tf.nn.softmax),\n",
    "\n",
    "])\n",
    "model1.summary()\n",
    "\n",
    "N_epochs = 4\n",
    "\n",
    "opt1 = tf.keras.optimizers.SGD(learning_rate=0.00001)\n",
    "model1.compile(optimizer = opt1 , loss = tf.keras.losses.SparseCategoricalCrossentropy(from_logits=True) , metrics = ['accuracy'])\n",
    "\n",
    "history1 = model1.fit(t_x, t_y, epochs = N_epochs, validation_data = (v_x, v_y))"
   ]
  },
  {
   "cell_type": "code",
   "execution_count": 15,
   "metadata": {},
   "outputs": [
    {
     "data": {
      "image/png": "[encoded data removed]",
      "text/plain": [
       "<Figure size 1080x1080 with 2 Axes>"
      ]
     },
     "metadata": {
      "needs_background": "light"
     },
     "output_type": "display_data"
    }
   ],
   "source": [
    "acc = history1.history['accuracy']\n",
    "val_acc = history1.history['val_accuracy']\n",
    "loss = history1.history['loss']\n",
    "val_loss = history1.history['val_loss']\n",
    "\n",
    "epochs_range = range(N_epochs)\n",
    "\n",
    "plt.figure(figsize=(15, 15))\n",
    "plt.subplot(2, 2, 1)\n",
    "plt.plot(epochs_range, acc, label='Training Accuracy')\n",
    "plt.plot(epochs_range, val_acc, label='Validation Accuracy')\n",
    "plt.legend(loc='lower right')\n",
    "plt.title('Training and Validation Accuracy')\n",
    "\n",
    "plt.subplot(2, 2, 2)\n",
    "plt.plot(epochs_range, loss, label='Training Loss')\n",
    "plt.plot(epochs_range, val_loss, label='Validation Loss')\n",
    "plt.legend(loc='upper right')\n",
    "plt.title('Training and Validation Loss')\n",
    "plt.show()\n",
    "\n",
    "# model1.save(\"model1-A\")"
   ]
  },
  {
   "cell_type": "code",
   "execution_count": 16,
   "metadata": {},
   "outputs": [
    {
     "name": "stdout",
     "output_type": "stream",
     "text": [
      "Model: \"sequential_1\"\n",
      "_________________________________________________________________\n",
      "Layer (type)                 Output Shape              Param #   \n",
      "=================================================================\n",
      "flatten_1 (Flatten)          (None, 7)                 0         \n",
      "_________________________________________________________________\n",
      "dense_2 (Dense)              (None, 8)                 64        \n",
      "_________________________________________________________________\n",
      "dense_3 (Dense)              (None, 16)                144       \n",
      "_________________________________________________________________\n",
      "dense_4 (Dense)              (None, 32)                544       \n",
      "_________________________________________________________________\n",
      "dense_5 (Dense)              (None, 64)                2112      \n",
      "_________________________________________________________________\n",
      "dense_6 (Dense)              (None, 32)                2080      \n",
      "_________________________________________________________________\n",
      "dense_7 (Dense)              (None, 16)                528       \n",
      "_________________________________________________________________\n",
      "dense_8 (Dense)              (None, 8)                 136       \n",
      "_________________________________________________________________\n",
      "dense_9 (Dense)              (None, 4)                 36        \n",
      "_________________________________________________________________\n",
      "dense_10 (Dense)             (None, 2)                 10        \n",
      "=================================================================\n",
      "Total params: 5,654\n",
      "Trainable params: 5,654\n",
      "Non-trainable params: 0\n",
      "_________________________________________________________________\n",
      "Epoch 1/4\n",
      "158900/158900 [==============================] - 127s 797us/step - loss: 0.4627 - accuracy: 0.9021 - val_loss: 0.4420 - val_accuracy: 0.9024\n",
      "Epoch 2/4\n",
      "158900/158900 [==============================] - 125s 785us/step - loss: 0.4553 - accuracy: 0.9021 - val_loss: 0.4369 - val_accuracy: 0.9024\n",
      "Epoch 3/4\n",
      "158900/158900 [==============================] - 123s 776us/step - loss: 0.4497 - accuracy: 0.9021 - val_loss: 0.4332 - val_accuracy: 0.9024\n",
      "Epoch 4/4\n",
      "158900/158900 [==============================] - 122s 769us/step - loss: 0.4454 - accuracy: 0.9021 - val_loss: 0.4304 - val_accuracy: 0.9024\n"
     ]
    }
   ],
   "source": [
    "model2 = keras.Sequential([\n",
    "    keras.layers.Flatten(input_shape=(7,)),\n",
    "    keras.layers.Dense(8, activation=tf.nn.softmax),\n",
    "    keras.layers.Dense(16, activation=tf.nn.softmax),\n",
    "    keras.layers.Dense(32, activation=tf.nn.softmax),\n",
    "    keras.layers.Dense(64, activation=tf.nn.softmax),\n",
    "    keras.layers.Dense(32, activation=tf.nn.softmax),\n",
    "    keras.layers.Dense(16, activation=tf.nn.softmax),\n",
    "    keras.layers.Dense(8, activation=tf.nn.softmax),\n",
    "    keras.layers.Dense(4, activation=tf.nn.softmax),\n",
    "    keras.layers.Dense(2, activation=tf.nn.softmax),\n",
    "\n",
    "])\n",
    "model2.summary()\n",
    "N_epochs = 4\n",
    "\n",
    "opt2 = tf.keras.optimizers.Adam(learning_rate=0.00001)\n",
    "model2.compile(optimizer = opt2 , loss = tf.keras.losses.SparseCategoricalCrossentropy(from_logits=True) , metrics = ['accuracy'])\n",
    "\n",
    "history2 = model1.fit(t_x, t_y, epochs = N_epochs, validation_data = (v_x, v_y))"
   ]
  },
  {
   "cell_type": "code",
   "execution_count": 17,
   "metadata": {},
   "outputs": [
    {
     "data": {
      "image/png": "[encoded data removed]",
      "text/plain": [
       "<Figure size 1080x1080 with 2 Axes>"
      ]
     },
     "metadata": {
      "needs_background": "light"
     },
     "output_type": "display_data"
    }
   ],
   "source": [
    "acc = history2.history['accuracy']\n",
    "val_acc = history2.history['val_accuracy']\n",
    "loss = history2.history['loss']\n",
    "val_loss = history2.history['val_loss']\n",
    "\n",
    "epochs_range = range(N_epochs)\n",
    "\n",
    "plt.figure(figsize=(15, 15))\n",
    "plt.subplot(2, 2, 1)\n",
    "plt.plot(epochs_range, acc, label='Training Accuracy')\n",
    "plt.plot(epochs_range, val_acc, label='Validation Accuracy')\n",
    "plt.legend(loc='lower right')\n",
    "plt.title('Training and Validation Accuracy')\n",
    "\n",
    "plt.subplot(2, 2, 2)\n",
    "plt.plot(epochs_range, loss, label='Training Loss')\n",
    "plt.plot(epochs_range, val_loss, label='Validation Loss')\n",
    "plt.legend(loc='upper right')\n",
    "plt.title('Training and Validation Loss')\n",
    "plt.show()"
   ]
  },
  {
   "cell_type": "code",
   "execution_count": 18,
   "metadata": {},
   "outputs": [
    {
     "name": "stdout",
     "output_type": "stream",
     "text": [
      "Model: \"sequential_2\"\n",
      "_________________________________________________________________\n",
      "Layer (type)                 Output Shape              Param #   \n",
      "=================================================================\n",
      "flatten_2 (Flatten)          (None, 7)                 0         \n",
      "_________________________________________________________________\n",
      "dense_11 (Dense)             (None, 16)                128       \n",
      "_________________________________________________________________\n",
      "dense_12 (Dense)             (None, 16)                272       \n",
      "_________________________________________________________________\n",
      "dense_13 (Dense)             (None, 2)                 34        \n",
      "=================================================================\n",
      "Total params: 434\n",
      "Trainable params: 434\n",
      "Non-trainable params: 0\n",
      "_________________________________________________________________\n",
      "Epoch 1/4\n",
      "158900/158900 [==============================] - 134s 839us/step - loss: 0.4110 - accuracy: 0.9017 - val_loss: 0.4105 - val_accuracy: 0.9024\n",
      "Epoch 2/4\n",
      "158900/158900 [==============================] - 128s 806us/step - loss: 0.4106 - accuracy: 0.9021 - val_loss: 0.4105 - val_accuracy: 0.9024\n",
      "Epoch 3/4\n",
      "158900/158900 [==============================] - 132s 833us/step - loss: 0.4106 - accuracy: 0.9021 - val_loss: 0.4105 - val_accuracy: 0.9024\n",
      "Epoch 4/4\n",
      "158900/158900 [==============================] - 132s 832us/step - loss: 0.4106 - accuracy: 0.9021 - val_loss: 0.4105 - val_accuracy: 0.9024\n"
     ]
    }
   ],
   "source": [
    "model3 = keras.Sequential([\n",
    "    keras.layers.Flatten(input_shape=(7,)),\n",
    "    keras.layers.Dense(16, activation=tf.nn.relu),\n",
    "    keras.layers.Dense(16, activation=tf.nn.relu),\n",
    "    keras.layers.Dense(2, activation=tf.nn.softmax),\n",
    "\n",
    "])\n",
    "model3.summary()\n",
    "N_epochs = 4\n",
    "\n",
    "opt3 = tf.keras.optimizers.Adamax(learning_rate=0.0001)\n",
    "model3.compile(optimizer = opt3 , loss = tf.keras.losses.SparseCategoricalCrossentropy(from_logits=True) , metrics = ['accuracy'])\n",
    "\n",
    "history3 = model3.fit(t_x, t_y, epochs = N_epochs, validation_data = (v_x, v_y))"
   ]
  },
  {
   "cell_type": "code",
   "execution_count": 19,
   "metadata": {},
   "outputs": [
    {
     "data": {
      "image/png": "[encoded data removed]",
      "text/plain": [
       "<Figure size 1080x1080 with 2 Axes>"
      ]
     },
     "metadata": {
      "needs_background": "light"
     },
     "output_type": "display_data"
    }
   ],
   "source": [
    "acc = history3.history['accuracy']\n",
    "val_acc = history3.history['val_accuracy']\n",
    "loss = history3.history['loss']\n",
    "val_loss = history3.history['val_loss']\n",
    "\n",
    "epochs_range = range(N_epochs)\n",
    "\n",
    "plt.figure(figsize=(15, 15))\n",
    "plt.subplot(2, 2, 1)\n",
    "plt.plot(epochs_range, acc, label='Training Accuracy')\n",
    "plt.plot(epochs_range, val_acc, label='Validation Accuracy')\n",
    "plt.legend(loc='lower right')\n",
    "plt.title('Training and Validation Accuracy')\n",
    "\n",
    "plt.subplot(2, 2, 2)\n",
    "plt.plot(epochs_range, loss, label='Training Loss')\n",
    "plt.plot(epochs_range, val_loss, label='Validation Loss')\n",
    "plt.legend(loc='upper right')\n",
    "plt.title('Training and Validation Loss')\n",
    "plt.show()"
   ]
  },
  {
   "cell_type": "code",
   "execution_count": null,
   "metadata": {},
   "outputs": [],
   "source": []
  },
  {
   "cell_type": "code",
   "execution_count": null,
   "metadata": {},
   "outputs": [],
   "source": []
  },
  {
   "cell_type": "code",
   "execution_count": null,
   "metadata": {},
   "outputs": [],
   "source": []
  },
  {
   "cell_type": "code",
   "execution_count": 20,
   "metadata": {},
   "outputs": [
    {
     "ename": "NameError",
     "evalue": "name 'model' is not defined",
     "output_type": "error",
     "traceback": [
      "\u001b[1;31m---------------------------------------------------------------------------\u001b[0m",
      "\u001b[1;31mNameError\u001b[0m                                 Traceback (most recent call last)",
      "\u001b[1;32m<ipython-input-20-6c66397545d0>\u001b[0m in \u001b[0;36m<module>\u001b[1;34m\u001b[0m\n\u001b[0;32m      1\u001b[0m \u001b[0mX_train\u001b[0m\u001b[1;33m,\u001b[0m \u001b[0my_train\u001b[0m \u001b[1;33m=\u001b[0m \u001b[0mdata_train\u001b[0m\u001b[1;33m.\u001b[0m\u001b[0mdrop\u001b[0m\u001b[1;33m(\u001b[0m\u001b[1;34m'reordered'\u001b[0m\u001b[1;33m,\u001b[0m \u001b[0maxis\u001b[0m\u001b[1;33m=\u001b[0m\u001b[1;36m1\u001b[0m\u001b[1;33m)\u001b[0m\u001b[1;33m,\u001b[0m \u001b[0mdata_train\u001b[0m\u001b[1;33m.\u001b[0m\u001b[0mreordered\u001b[0m\u001b[1;33m\u001b[0m\u001b[1;33m\u001b[0m\u001b[0m\n\u001b[1;32m----> 2\u001b[1;33m \u001b[0mfeature_importances_df\u001b[0m \u001b[1;33m=\u001b[0m \u001b[0mpd\u001b[0m\u001b[1;33m.\u001b[0m\u001b[0mDataFrame\u001b[0m\u001b[1;33m(\u001b[0m\u001b[0mmodel\u001b[0m\u001b[1;33m.\u001b[0m\u001b[0mfeature_importances_\u001b[0m\u001b[1;33m,\u001b[0m \u001b[0mindex\u001b[0m \u001b[1;33m=\u001b[0m \u001b[0mX_train\u001b[0m\u001b[1;33m.\u001b[0m\u001b[0mcolumns\u001b[0m\u001b[1;33m,\u001b[0m \u001b[0mcolumns\u001b[0m\u001b[1;33m=\u001b[0m\u001b[1;33m[\u001b[0m\u001b[1;34m'importance'\u001b[0m\u001b[1;33m]\u001b[0m\u001b[1;33m)\u001b[0m\u001b[1;33m.\u001b[0m\u001b[0msort_values\u001b[0m\u001b[1;33m(\u001b[0m\u001b[1;34m'importance'\u001b[0m\u001b[1;33m,\u001b[0m\u001b[0mascending\u001b[0m\u001b[1;33m=\u001b[0m\u001b[1;32mFalse\u001b[0m\u001b[1;33m)\u001b[0m\u001b[1;33m\u001b[0m\u001b[1;33m\u001b[0m\u001b[0m\n\u001b[0m\u001b[0;32m      3\u001b[0m \u001b[0mprint\u001b[0m\u001b[1;33m(\u001b[0m\u001b[0mfeature_importances_df\u001b[0m\u001b[1;33m)\u001b[0m\u001b[1;33m\u001b[0m\u001b[1;33m\u001b[0m\u001b[0m\n\u001b[0;32m      4\u001b[0m \u001b[1;33m\u001b[0m\u001b[0m\n\u001b[0;32m      5\u001b[0m \u001b[1;31m##################################\u001b[0m\u001b[1;33m\u001b[0m\u001b[1;33m\u001b[0m\u001b[1;33m\u001b[0m\u001b[0m\n",
      "\u001b[1;31mNameError\u001b[0m: name 'model' is not defined"
     ]
    }
   ],
   "source": [
    "X_train, y_train = data_train.drop('reordered', axis=1), data_train.reordered\n",
    "feature_importances_df = pd.DataFrame(model.feature_importances_, index = X_train.columns, columns=['importance']).sort_values('importance',ascending=False)\n",
    "print(feature_importances_df)\n",
    "\n",
    "##################################\n",
    "# FEATURE IMPORTANCE - GRAPHICAL\n",
    "##################################\n",
    "feat_importances = pd.Series(model.feature_importances_, index=X_train.columns).sort_values()\n",
    "feat_importances.plot(kind='barh')\n",
    "\n",
    "############################\n",
    "# DELETE TEMPORARY OBJECTS #\n",
    "############################\n",
    "gc.collect()"
   ]
  },
  {
   "cell_type": "code",
   "execution_count": null,
   "metadata": {},
   "outputs": [],
   "source": []
  },
  {
   "cell_type": "code",
   "execution_count": null,
   "metadata": {},
   "outputs": [],
   "source": [
    "# TRAIN FULL \n",
    "\n",
    "###########################\n",
    "## IMPORT REQUIRED PACKAGES\n",
    "###########################\n",
    "from sklearn.ensemble import RandomForestClassifier\n",
    "\n",
    "########################################\n",
    "## SPLIT DF TO: X_train, y_train (axis=1)\n",
    "########################################\n",
    "X_train, y_train = data_train.drop('reordered', axis=1), data_train.reordered\n",
    "\n",
    "############################\n",
    "## INSTANTIATE AND TRAIN MODEL\n",
    "############################\n",
    "rfc = RandomForestClassifier(n_estimators=10, n_jobs=-1 ,random_state=42)\n",
    "model = rfc.fit(X_train, y_train)\n",
    "\n",
    "############################\n",
    "# FEATURE IMPORTANCE - AS DF\n",
    "############################\n",
    "feature_importances_df = pd.DataFrame(model.feature_importances_, index = X_train.columns, columns=['importance']).sort_values('importance',ascending=False)\n",
    "print(feature_importances_df)\n",
    "\n",
    "##################################\n",
    "# FEATURE IMPORTANCE - GRAPHICAL\n",
    "##################################\n",
    "feat_importances = pd.Series(model.feature_importances_, index=X_train.columns).sort_values()\n",
    "feat_importances.plot(kind='barh')\n",
    "\n",
    "############################\n",
    "# DELETE TEMPORARY OBJECTS #\n",
    "############################\n",
    "gc.collect()\n"
   ]
  },
  {
   "cell_type": "code",
   "execution_count": null,
   "metadata": {},
   "outputs": [],
   "source": []
  },
  {
   "cell_type": "code",
   "execution_count": null,
   "metadata": {},
   "outputs": [],
   "source": []
  },
  {
   "cell_type": "code",
   "execution_count": null,
   "metadata": {},
   "outputs": [],
   "source": []
  },
  {
   "cell_type": "code",
   "execution_count": null,
   "metadata": {},
   "outputs": [],
   "source": []
  },
  {
   "cell_type": "code",
   "execution_count": null,
   "metadata": {},
   "outputs": [],
   "source": []
  },
  {
   "cell_type": "code",
   "execution_count": null,
   "metadata": {},
   "outputs": [],
   "source": []
  },
  {
   "cell_type": "code",
   "execution_count": null,
   "metadata": {},
   "outputs": [],
   "source": []
  },
  {
   "cell_type": "code",
   "execution_count": null,
   "metadata": {},
   "outputs": [],
   "source": []
  },
  {
   "cell_type": "code",
   "execution_count": null,
   "metadata": {},
   "outputs": [],
   "source": []
  },
  {
   "cell_type": "code",
   "execution_count": null,
   "metadata": {},
   "outputs": [],
   "source": []
  },
  {
   "cell_type": "code",
   "execution_count": null,
   "metadata": {},
   "outputs": [],
   "source": []
  },
  {
   "cell_type": "code",
   "execution_count": null,
   "metadata": {},
   "outputs": [],
   "source": []
  },
  {
   "cell_type": "code",
   "execution_count": null,
   "metadata": {},
   "outputs": [],
   "source": []
  }
 ],
 "metadata": {
  "interpreter": {
   "hash": "aa263090745d86a15bca460b6caadc79d87c56e86075a6b9f6d2860bea65bee0"
  },
  "kernelspec": {
   "display_name": "Python 3.8.5 64-bit ('base': conda)",
   "name": "python3"
  },
  "language_info": {
   "codemirror_mode": {
    "name": "ipython",
    "version": 3
   },
   "file_extension": ".py",
   "mimetype": "text/x-python",
   "name": "python",
   "nbconvert_exporter": "python",
   "pygments_lexer": "ipython3",
   "version": "3.8.5"
  },
  "orig_nbformat": 4
 },
 "nbformat": 4,
 "nbformat_minor": 2
}
